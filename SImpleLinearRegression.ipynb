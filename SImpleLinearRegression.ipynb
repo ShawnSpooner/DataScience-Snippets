{
 "cells": [
  {
   "cell_type": "markdown",
   "metadata": {},
   "source": [
    "## Simple Linear Regression\n",
    "\n",
    "Lets build a simple linear regression model using Theano"
   ]
  },
  {
   "cell_type": "code",
   "execution_count": 33,
   "metadata": {
    "collapsed": false
   },
   "outputs": [],
   "source": [
    "import matplotlib.pyplot as plt\n",
    "import numpy as np\n",
    "from theano import *\n",
    "import seaborn as sns\n",
    "import theano.tensor as T\n",
    "rng = numpy.random\n",
    "\n",
    "%matplotlib inline\n",
    "\n",
    "class SimpleLinearRegression:\n",
    "    def __init__(self, alpha=0.01, training_steps=1000):\n",
    "        self.alpha = alpha\n",
    "        self.training_steps = training_steps\n",
    "    \n",
    "    def build(self):\n",
    "        X = T.vector()\n",
    "        y = T.vector()\n",
    "\n",
    "        w = theano.shared(rng.randn(), name ='w')\n",
    "        c = theano.shared(rng.randn(), name ='c')\n",
    "        \n",
    "        #prediction is the dot product between the observation and the weight plus the error term\n",
    "        prediction = T.dot(X, w) + c\n",
    "        \n",
    "        #calculate the MSE(Mean Squared Error)\n",
    "        cost = T.mean(T.sqr(y - prediction))\n",
    "\n",
    "        gradient_w, gradient_c = T.grad(cost, [w, c])\n",
    "        updates = [[w, w - gradient_w * 0.01], [c, c - gradient_c * 0.01]]\n",
    "        \n",
    "        self.model = theano.function([X], prediction)\n",
    "        return theano.function(\n",
    "            inputs=[X, y], \n",
    "            outputs=cost,\n",
    "            updates=updates)\n",
    "    \n",
    "    def fit(self, X, y):\n",
    "        train = self.build()\n",
    "        for i in range(self.training_steps):\n",
    "            current_e = train(X,y)\n",
    "    \n",
    "    def predict(self, observations):\n",
    "        return self.model(observations)"
   ]
  },
  {
   "cell_type": "markdown",
   "metadata": {},
   "source": [
    "### Sample Observations\n",
    "We need to geneate sample observations in linear space, lets make a simple function"
   ]
  },
  {
   "cell_type": "code",
   "execution_count": 12,
   "metadata": {
    "collapsed": true
   },
   "outputs": [],
   "source": [
    "train_X = np.linspace(-1, 1, 101)\n",
    "train_y = train_X * 1.5"
   ]
  },
  {
   "cell_type": "code",
   "execution_count": 44,
   "metadata": {
    "collapsed": false
   },
   "outputs": [],
   "source": [
    "sr = SimpleLinearRegression()\n",
    "sr.fit(train_X, train_y)"
   ]
  },
  {
   "cell_type": "code",
   "execution_count": 45,
   "metadata": {
    "collapsed": false
   },
   "outputs": [
    {
     "data": {
      "text/plain": [
       "-3.0575843377908173e-09"
      ]
     },
     "execution_count": 45,
     "metadata": {},
     "output_type": "execute_result"
    }
   ],
   "source": [
    "y_hat = sr.predict(train_X)\n",
    "(train_y - y_hat).mean()"
   ]
  },
  {
   "cell_type": "code",
   "execution_count": 46,
   "metadata": {
    "collapsed": false
   },
   "outputs": [
    {
     "data": {
      "image/png": "[encoded data removed]",
      "text/plain": [
       "<matplotlib.figure.Figure at 0x1126119e8>"
      ]
     },
     "metadata": {},
     "output_type": "display_data"
    }
   ],
   "source": [
    "plt.plot(train_X, train_y, '.', label='Observed')\n",
    "plt.plot(train_X, y_hat, label='Predicted')\n",
    "plt.legend()\n",
    "plt.show();"
   ]
  },
  {
   "cell_type": "markdown",
   "metadata": {},
   "source": [
    "### Scikit Learn\n",
    "For a basic comparison how does our simple regressor compare to the one in sklearn"
   ]
  },
  {
   "cell_type": "code",
   "execution_count": 47,
   "metadata": {
    "collapsed": false
   },
   "outputs": [
    {
     "data": {
      "text/plain": [
       "-2.2317920692794449e-18"
      ]
     },
     "execution_count": 47,
     "metadata": {},
     "output_type": "execute_result"
    }
   ],
   "source": [
    "from sklearn.linear_model import LinearRegression\n",
    "\n",
    "X = train_X[:,np.newaxis]\n",
    "lr = LinearRegression()\n",
    "lr.fit(X, train_y)\n",
    "\n",
    "y_hat = lr.predict(X)\n",
    "(train_y - y_hat).mean()"
   ]
  },
  {
   "cell_type": "code",
   "execution_count": 48,
   "metadata": {
    "collapsed": false
   },
   "outputs": [
    {
     "data": {
      "image/png": "[encoded data removed]",
      "text/plain": [
       "<matplotlib.figure.Figure at 0x11263da20>"
      ]
     },
     "metadata": {},
     "output_type": "display_data"
    }
   ],
   "source": [
    "plt.plot(train_X, train_y, '.', label='Observed')\n",
    "plt.plot(train_X, y_hat, label='Predicted')\n",
    "plt.legend()\n",
    "plt.show();"
   ]
  }
 ],
 "metadata": {
  "kernelspec": {
   "display_name": "Python 3",
   "language": "python",
   "name": "python3"
  },
  "language_info": {
   "codemirror_mode": {
    "name": "ipython",
    "version": 3
   },
   "file_extension": ".py",
   "mimetype": "text/x-python",
   "name": "python",
   "nbconvert_exporter": "python",
   "pygments_lexer": "ipython3",
   "version": "3.4.3"
  }
 },
 "nbformat": 4,
 "nbformat_minor": 0
}
